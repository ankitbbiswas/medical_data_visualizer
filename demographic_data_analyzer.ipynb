{
 "cells": [
  {
   "cell_type": "code",
   "execution_count": 1,
   "id": "67d7badc-5b80-40f8-8f75-42fbd3d0e638",
   "metadata": {},
   "outputs": [
    {
     "name": "stdout",
     "output_type": "stream",
     "text": [
      "   age         workclass  fnlwgt  education  education-num  \\\n",
      "0   39         State-gov   77516  Bachelors             13   \n",
      "1   50  Self-emp-not-inc   83311  Bachelors             13   \n",
      "2   38           Private  215646    HS-grad              9   \n",
      "3   53           Private  234721       11th              7   \n",
      "4   28           Private  338409  Bachelors             13   \n",
      "\n",
      "       marital-status         occupation   relationship   race     sex  \\\n",
      "0       Never-married       Adm-clerical  Not-in-family  White    Male   \n",
      "1  Married-civ-spouse    Exec-managerial        Husband  White    Male   \n",
      "2            Divorced  Handlers-cleaners  Not-in-family  White    Male   \n",
      "3  Married-civ-spouse  Handlers-cleaners        Husband  Black    Male   \n",
      "4  Married-civ-spouse     Prof-specialty           Wife  Black  Female   \n",
      "\n",
      "   capital-gain  capital-loss  hours-per-week native-country salary  \n",
      "0          2174             0              40  United-States  <=50K  \n",
      "1             0             0              13  United-States  <=50K  \n",
      "2             0             0              40  United-States  <=50K  \n",
      "3             0             0              40  United-States  <=50K  \n",
      "4             0             0              40           Cuba  <=50K  \n"
     ]
    }
   ],
   "source": [
    "import pandas as pd\n",
    "\n",
    "# Define the data\n",
    "data = {\n",
    "    'age': [39, 50, 38, 53, 28],\n",
    "    'workclass': ['State-gov', 'Self-emp-not-inc', 'Private', 'Private', 'Private'],\n",
    "    'fnlwgt': [77516, 83311, 215646, 234721, 338409],\n",
    "    'education': ['Bachelors', 'Bachelors', 'HS-grad', '11th', 'Bachelors'],\n",
    "    'education-num': [13, 13, 9, 7, 13],\n",
    "    'marital-status': ['Never-married', 'Married-civ-spouse', 'Divorced', 'Married-civ-spouse', 'Married-civ-spouse'],\n",
    "    'occupation': ['Adm-clerical', 'Exec-managerial', 'Handlers-cleaners', 'Handlers-cleaners', 'Prof-specialty'],\n",
    "    'relationship': ['Not-in-family', 'Husband', 'Not-in-family', 'Husband', 'Wife'],\n",
    "    'race': ['White', 'White', 'White', 'Black', 'Black'],\n",
    "    'sex': ['Male', 'Male', 'Male', 'Male', 'Female'],\n",
    "    'capital-gain': [2174, 0, 0, 0, 0],\n",
    "    'capital-loss': [0, 0, 0, 0, 0],\n",
    "    'hours-per-week': [40, 13, 40, 40, 40],\n",
    "    'native-country': ['United-States', 'United-States', 'United-States', 'United-States', 'Cuba'],\n",
    "    'salary': ['<=50K', '<=50K', '<=50K', '<=50K', '<=50K']\n",
    "}\n",
    "\n",
    "# Create DataFrame\n",
    "df = pd.DataFrame(data)\n",
    "\n",
    "# Display the DataFrame\n",
    "print(df)\n"
   ]
  },
  {
   "cell_type": "code",
   "execution_count": 2,
   "id": "7c1a167b-5c5e-4ef8-bd12-fc746d0ea9e7",
   "metadata": {},
   "outputs": [],
   "source": [
    "df.to_csv('dataset.csv', index=False)\n"
   ]
  },
  {
   "cell_type": "code",
   "execution_count": null,
   "id": "3ee36cf1-98c7-479a-9cc3-a478430fedc3",
   "metadata": {},
   "outputs": [],
   "source": []
  },
  {
   "cell_type": "code",
   "execution_count": 32,
   "id": "5f174982-85fe-4cf5-9a60-1a99cc2899a2",
   "metadata": {},
   "outputs": [
    {
     "name": "stdout",
     "output_type": "stream",
     "text": [
      "Race Counts: race\n",
      "White    3\n",
      "Black    2\n",
      "Name: count, dtype: int64\n",
      "Average age of men: 45\n",
      "Percentage of Bachelors: 60\n",
      "Percentage of Upper Graduated with more Salary: 100\n",
      "Percentage of Lower Graduated with more Salary: 100\n",
      "Minimum Hours per week: 13\n",
      "Percentage of Rich min work People: 0\n",
      "Highest Percentage country: native-country\n",
      "Cuba            NaN\n",
      "United-States   NaN\n",
      "Name: count, dtype: float64\n",
      "Highest Percentage: nan\n",
      "Top Occupation India: Series([], Name: count, dtype: int64)\n"
     ]
    }
   ],
   "source": [
    "import pandas as pd\n",
    "\n",
    "def demographic_data_analyzer(file_path):\n",
    "    data = pd.read_csv(file_path)\n",
    "\n",
    "    # 1. How many people of each race are represented in this dataset?\n",
    "    race_counts = data['race'].value_counts()\n",
    "\n",
    "    # 2. What is the average age of men?\n",
    "    avg_men_age = data[data['sex'] == 'Male']['age'].mean()\n",
    "\n",
    "    # 3. What is the percentage of people who have a Bachelor's degree?\n",
    "    total_people = data.shape [0]\n",
    "    bachelors_count = data[data['education'] == 'Bachelors'].shape[0]\n",
    "    percentage_bachelors = (bachelors_count / total_people) * 100\n",
    "\n",
    "    # 4. What percentage of people with advanced education (Bachelors, Masters, or Doctorate) make more than 50K?\n",
    "    advanced_education = data[data['education'].isin(['Bachelors', 'Masters', 'Doctorate'])]\n",
    "    advanced_education_rich = advanced_education[advanced_education['salary'] == '<=50K']\n",
    "    percentage_advanced_education_rich = (advanced_education_rich.shape[0] / advanced_education.shape[0]) * 100\n",
    "\n",
    "    # 5. What percentage of people without advanced education make more than 50K?\n",
    "    non_advanced_education = data[~data['education'].isin(['Bachelors', 'Masters', 'Doctorate'])]\n",
    "    non_advanced_education_rich = non_advanced_education[non_advanced_education['salary'] == '<=50K']\n",
    "    percentage_non_advanced_education_rich = (non_advanced_education_rich.shape[0] / non_advanced_education.shape[0]) * 100\n",
    "\n",
    "    # 6. What is the minimum number of hours a person works per week?\n",
    "    min_work_hours = data['hours-per-week'].min()\n",
    "\n",
    "    # 7. What percentage of the people who work the minimum number of hours per week have a salary of more than 50K?\n",
    "    min_work_people = data[data['hours-per-week'] == min_work_hours]\n",
    "    rich_min_work_people = min_work_people[min_work_people['salary'] == '<=50k']\n",
    "    percentage_rich_min_work_people = (rich_min_work_people.shape[0] / min_work_people.shape[0]) * 100\n",
    "\n",
    "    # 8. What country has the highest percentage of people that earn <=50K and what is that percentage?\n",
    "    country = data[data['salary'] == '<=50k']['native-country'].value_counts()\n",
    "    total_country = data['native-country'].value_counts()\n",
    "    highest_percentage_country = (country / total_country * 100)\n",
    "    highest_percentage = (country / total_country * 100).max()\n",
    "\n",
    "    # 9. Identify the most popular occupation for those who earn >50K in India.\n",
    "    india_rich = data[(data['native-country'] == 'India') & (data['salary'] == '>50K')]\n",
    "    top_occupation_india = india_rich['occupation'].value_counts()\n",
    "\n",
    "    # Return results\n",
    "    return {\n",
    "        'Race Counts': race_counts,\n",
    "        'Average age of men': round(avg_men_age),\n",
    "        'Percentage of Bachelors': round(percentage_bachelors),\n",
    "        'Percentage of Upper Graduated with more Salary': round(percentage_advanced_education_rich),\n",
    "        'Percentage of Lower Graduated with more Salary': round(percentage_non_advanced_education_rich),\n",
    "        'Minimum Hours per week': min_work_hours,\n",
    "        'Percentage of Rich min work People': round(percentage_rich_min_work_people),\n",
    "        'Highest Percentage country': highest_percentage_country,\n",
    "        'Highest Percentage': round(highest_percentage, 1),\n",
    "        'Top Occupation India': top_occupation_india\n",
    "    }\n",
    "\n",
    "file_path = '/Users/anks/Jupyter Files/dataset.csv'\n",
    "result = demographic_data_analyzer(file_path)\n",
    "for key, value in result.items():\n",
    "    print(f'{key}: {value}')"
   ]
  },
  {
   "cell_type": "code",
   "execution_count": null,
   "id": "2c1861c9-6f85-4ecc-a9ea-c7b7ea8e1790",
   "metadata": {},
   "outputs": [],
   "source": []
  }
 ],
 "metadata": {
  "kernelspec": {
   "display_name": "Python 3 (ipykernel)",
   "language": "python",
   "name": "python3"
  },
  "language_info": {
   "codemirror_mode": {
    "name": "ipython",
    "version": 3
   },
   "file_extension": ".py",
   "mimetype": "text/x-python",
   "name": "python",
   "nbconvert_exporter": "python",
   "pygments_lexer": "ipython3",
   "version": "3.12.3"
  }
 },
 "nbformat": 4,
 "nbformat_minor": 5
}
